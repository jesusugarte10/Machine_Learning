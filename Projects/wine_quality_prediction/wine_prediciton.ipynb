{
  "nbformat": 4,
  "nbformat_minor": 0,
  "metadata": {
    "colab": {
      "name": "wine_prediciton.ipynb",
      "provenance": [],
      "collapsed_sections": []
    },
    "kernelspec": {
      "display_name": "Python 3",
      "name": "python3"
    }
  },
  "cells": [
    {
      "cell_type": "markdown",
      "metadata": {
        "id": "MBE1zvQmCwBT"
      },
      "source": [
        "Author: Jesus Ugarte\n",
        "\n",
        "*   University of Central Florida\n",
        "*   Algorithms for Machine Learning\n",
        "\n",
        "Wine Prediction"
      ]
    },
    {
      "cell_type": "code",
      "metadata": {
        "id": "BdKjiYmVPlme",
        "colab": {
          "base_uri": "https://localhost:8080/"
        },
        "outputId": "96ee701d-9541-47f6-d18f-42da15fb2351"
      },
      "source": [
        "import pandas as pd\n",
        "import numpy as np # linear algebra\n",
        "import matplotlib.pyplot as plt\n",
        "import seaborn as sns\n",
        "from sklearn.model_selection import StratifiedKFold\n",
        "from sklearn.neighbors import KNeighborsClassifier\n",
        "from sklearn.pipeline import make_pipeline , Pipeline\n",
        "from sklearn.model_selection import GridSearchCV , RandomizedSearchCV, train_test_split\n",
        "from sklearn import preprocessing, decomposition, neighbors\n",
        "from sklearn.metrics import roc_auc_score, accuracy_score, f1_score\n",
        "from sklearn import preprocessing\n",
        "\n",
        "from google.colab import drive\n",
        "\n",
        "drive.mount('/content/drive')"
      ],
      "execution_count": 1,
      "outputs": [
        {
          "output_type": "stream",
          "text": [
            "Drive already mounted at /content/drive; to attempt to forcibly remount, call drive.mount(\"/content/drive\", force_remount=True).\n"
          ],
          "name": "stdout"
        }
      ]
    },
    {
      "cell_type": "code",
      "metadata": {
        "id": "vCqsDESxRkbi",
        "colab": {
          "base_uri": "https://localhost:8080/",
          "height": 436
        },
        "outputId": "840d523e-ba38-4ac0-fc36-787e665ca22c"
      },
      "source": [
        "# IMPORTING DATA\n",
        "wine_data = pd.read_csv('/content/drive/MyDrive/Assignment 2 -ML/train.csv').drop(columns=['id'])\n",
        "sample_data = pd.read_csv('/content/drive/MyDrive/Assignment 2 -ML/sample_submission.csv').drop(columns=['id'])\n",
        "test_data = pd.read_csv('/content/drive/MyDrive/Assignment 2 -ML/test.csv').drop(columns=['id'])\n",
        "wine_data"
      ],
      "execution_count": 2,
      "outputs": [
        {
          "output_type": "execute_result",
          "data": {
            "text/html": [
              "<div>\n",
              "<style scoped>\n",
              "    .dataframe tbody tr th:only-of-type {\n",
              "        vertical-align: middle;\n",
              "    }\n",
              "\n",
              "    .dataframe tbody tr th {\n",
              "        vertical-align: top;\n",
              "    }\n",
              "\n",
              "    .dataframe thead th {\n",
              "        text-align: right;\n",
              "    }\n",
              "</style>\n",
              "<table border=\"1\" class=\"dataframe\">\n",
              "  <thead>\n",
              "    <tr style=\"text-align: right;\">\n",
              "      <th></th>\n",
              "      <th>fixed acidity</th>\n",
              "      <th>volatile acidity</th>\n",
              "      <th>citric acid</th>\n",
              "      <th>residual sugar</th>\n",
              "      <th>chlorides</th>\n",
              "      <th>free sulfur dioxide</th>\n",
              "      <th>total sulfur dioxide</th>\n",
              "      <th>density</th>\n",
              "      <th>pH</th>\n",
              "      <th>sulphates</th>\n",
              "      <th>alcohol</th>\n",
              "      <th>quality</th>\n",
              "    </tr>\n",
              "  </thead>\n",
              "  <tbody>\n",
              "    <tr>\n",
              "      <th>0</th>\n",
              "      <td>8.5</td>\n",
              "      <td>0.40</td>\n",
              "      <td>0.40</td>\n",
              "      <td>6.3</td>\n",
              "      <td>0.050</td>\n",
              "      <td>3.0</td>\n",
              "      <td>10.0</td>\n",
              "      <td>0.99566</td>\n",
              "      <td>3.28</td>\n",
              "      <td>0.56</td>\n",
              "      <td>12.0</td>\n",
              "      <td>0</td>\n",
              "    </tr>\n",
              "    <tr>\n",
              "      <th>1</th>\n",
              "      <td>11.5</td>\n",
              "      <td>0.18</td>\n",
              "      <td>0.51</td>\n",
              "      <td>4.0</td>\n",
              "      <td>0.104</td>\n",
              "      <td>4.0</td>\n",
              "      <td>23.0</td>\n",
              "      <td>0.99960</td>\n",
              "      <td>3.28</td>\n",
              "      <td>0.97</td>\n",
              "      <td>10.1</td>\n",
              "      <td>1</td>\n",
              "    </tr>\n",
              "    <tr>\n",
              "      <th>2</th>\n",
              "      <td>8.2</td>\n",
              "      <td>0.34</td>\n",
              "      <td>0.37</td>\n",
              "      <td>1.9</td>\n",
              "      <td>0.057</td>\n",
              "      <td>43.0</td>\n",
              "      <td>74.0</td>\n",
              "      <td>0.99408</td>\n",
              "      <td>3.23</td>\n",
              "      <td>0.81</td>\n",
              "      <td>12.0</td>\n",
              "      <td>1</td>\n",
              "    </tr>\n",
              "    <tr>\n",
              "      <th>3</th>\n",
              "      <td>10.7</td>\n",
              "      <td>0.43</td>\n",
              "      <td>0.39</td>\n",
              "      <td>2.2</td>\n",
              "      <td>0.106</td>\n",
              "      <td>8.0</td>\n",
              "      <td>32.0</td>\n",
              "      <td>0.99860</td>\n",
              "      <td>2.89</td>\n",
              "      <td>0.50</td>\n",
              "      <td>9.6</td>\n",
              "      <td>0</td>\n",
              "    </tr>\n",
              "    <tr>\n",
              "      <th>4</th>\n",
              "      <td>7.6</td>\n",
              "      <td>0.42</td>\n",
              "      <td>0.25</td>\n",
              "      <td>3.9</td>\n",
              "      <td>0.104</td>\n",
              "      <td>28.0</td>\n",
              "      <td>90.0</td>\n",
              "      <td>0.99784</td>\n",
              "      <td>3.15</td>\n",
              "      <td>0.57</td>\n",
              "      <td>9.1</td>\n",
              "      <td>0</td>\n",
              "    </tr>\n",
              "    <tr>\n",
              "      <th>...</th>\n",
              "      <td>...</td>\n",
              "      <td>...</td>\n",
              "      <td>...</td>\n",
              "      <td>...</td>\n",
              "      <td>...</td>\n",
              "      <td>...</td>\n",
              "      <td>...</td>\n",
              "      <td>...</td>\n",
              "      <td>...</td>\n",
              "      <td>...</td>\n",
              "      <td>...</td>\n",
              "      <td>...</td>\n",
              "    </tr>\n",
              "    <tr>\n",
              "      <th>794</th>\n",
              "      <td>6.6</td>\n",
              "      <td>0.96</td>\n",
              "      <td>0.00</td>\n",
              "      <td>1.8</td>\n",
              "      <td>0.082</td>\n",
              "      <td>5.0</td>\n",
              "      <td>16.0</td>\n",
              "      <td>0.99360</td>\n",
              "      <td>3.50</td>\n",
              "      <td>0.44</td>\n",
              "      <td>11.9</td>\n",
              "      <td>1</td>\n",
              "    </tr>\n",
              "    <tr>\n",
              "      <th>795</th>\n",
              "      <td>7.5</td>\n",
              "      <td>0.58</td>\n",
              "      <td>0.56</td>\n",
              "      <td>3.1</td>\n",
              "      <td>0.153</td>\n",
              "      <td>5.0</td>\n",
              "      <td>14.0</td>\n",
              "      <td>0.99476</td>\n",
              "      <td>3.21</td>\n",
              "      <td>1.03</td>\n",
              "      <td>11.6</td>\n",
              "      <td>1</td>\n",
              "    </tr>\n",
              "    <tr>\n",
              "      <th>796</th>\n",
              "      <td>5.6</td>\n",
              "      <td>0.31</td>\n",
              "      <td>0.78</td>\n",
              "      <td>13.9</td>\n",
              "      <td>0.074</td>\n",
              "      <td>23.0</td>\n",
              "      <td>92.0</td>\n",
              "      <td>0.99677</td>\n",
              "      <td>3.39</td>\n",
              "      <td>0.48</td>\n",
              "      <td>10.5</td>\n",
              "      <td>1</td>\n",
              "    </tr>\n",
              "    <tr>\n",
              "      <th>797</th>\n",
              "      <td>8.4</td>\n",
              "      <td>0.62</td>\n",
              "      <td>0.12</td>\n",
              "      <td>1.8</td>\n",
              "      <td>0.072</td>\n",
              "      <td>38.0</td>\n",
              "      <td>46.0</td>\n",
              "      <td>0.99504</td>\n",
              "      <td>3.38</td>\n",
              "      <td>0.89</td>\n",
              "      <td>11.8</td>\n",
              "      <td>1</td>\n",
              "    </tr>\n",
              "    <tr>\n",
              "      <th>798</th>\n",
              "      <td>9.5</td>\n",
              "      <td>0.86</td>\n",
              "      <td>0.26</td>\n",
              "      <td>1.9</td>\n",
              "      <td>0.079</td>\n",
              "      <td>13.0</td>\n",
              "      <td>28.0</td>\n",
              "      <td>0.99712</td>\n",
              "      <td>3.25</td>\n",
              "      <td>0.62</td>\n",
              "      <td>10.0</td>\n",
              "      <td>0</td>\n",
              "    </tr>\n",
              "  </tbody>\n",
              "</table>\n",
              "<p>799 rows × 12 columns</p>\n",
              "</div>"
            ],
            "text/plain": [
              "     fixed acidity  volatile acidity  citric acid  ...  sulphates  alcohol  quality\n",
              "0              8.5              0.40         0.40  ...       0.56     12.0        0\n",
              "1             11.5              0.18         0.51  ...       0.97     10.1        1\n",
              "2              8.2              0.34         0.37  ...       0.81     12.0        1\n",
              "3             10.7              0.43         0.39  ...       0.50      9.6        0\n",
              "4              7.6              0.42         0.25  ...       0.57      9.1        0\n",
              "..             ...               ...          ...  ...        ...      ...      ...\n",
              "794            6.6              0.96         0.00  ...       0.44     11.9        1\n",
              "795            7.5              0.58         0.56  ...       1.03     11.6        1\n",
              "796            5.6              0.31         0.78  ...       0.48     10.5        1\n",
              "797            8.4              0.62         0.12  ...       0.89     11.8        1\n",
              "798            9.5              0.86         0.26  ...       0.62     10.0        0\n",
              "\n",
              "[799 rows x 12 columns]"
            ]
          },
          "metadata": {
            "tags": []
          },
          "execution_count": 2
        }
      ]
    },
    {
      "cell_type": "code",
      "metadata": {
        "id": "qNqTbO1HLbrT",
        "colab": {
          "base_uri": "https://localhost:8080/",
          "height": 419
        },
        "outputId": "0803474f-f453-4e27-e1a0-80fc8ae26a92"
      },
      "source": [
        "#Taking a look at the sample data \n",
        "sample_data"
      ],
      "execution_count": 3,
      "outputs": [
        {
          "output_type": "execute_result",
          "data": {
            "text/html": [
              "<div>\n",
              "<style scoped>\n",
              "    .dataframe tbody tr th:only-of-type {\n",
              "        vertical-align: middle;\n",
              "    }\n",
              "\n",
              "    .dataframe tbody tr th {\n",
              "        vertical-align: top;\n",
              "    }\n",
              "\n",
              "    .dataframe thead th {\n",
              "        text-align: right;\n",
              "    }\n",
              "</style>\n",
              "<table border=\"1\" class=\"dataframe\">\n",
              "  <thead>\n",
              "    <tr style=\"text-align: right;\">\n",
              "      <th></th>\n",
              "      <th>quality</th>\n",
              "    </tr>\n",
              "  </thead>\n",
              "  <tbody>\n",
              "    <tr>\n",
              "      <th>0</th>\n",
              "      <td>0</td>\n",
              "    </tr>\n",
              "    <tr>\n",
              "      <th>1</th>\n",
              "      <td>0</td>\n",
              "    </tr>\n",
              "    <tr>\n",
              "      <th>2</th>\n",
              "      <td>0</td>\n",
              "    </tr>\n",
              "    <tr>\n",
              "      <th>3</th>\n",
              "      <td>0</td>\n",
              "    </tr>\n",
              "    <tr>\n",
              "      <th>4</th>\n",
              "      <td>0</td>\n",
              "    </tr>\n",
              "    <tr>\n",
              "      <th>...</th>\n",
              "      <td>...</td>\n",
              "    </tr>\n",
              "    <tr>\n",
              "      <th>795</th>\n",
              "      <td>0</td>\n",
              "    </tr>\n",
              "    <tr>\n",
              "      <th>796</th>\n",
              "      <td>0</td>\n",
              "    </tr>\n",
              "    <tr>\n",
              "      <th>797</th>\n",
              "      <td>0</td>\n",
              "    </tr>\n",
              "    <tr>\n",
              "      <th>798</th>\n",
              "      <td>0</td>\n",
              "    </tr>\n",
              "    <tr>\n",
              "      <th>799</th>\n",
              "      <td>0</td>\n",
              "    </tr>\n",
              "  </tbody>\n",
              "</table>\n",
              "<p>800 rows × 1 columns</p>\n",
              "</div>"
            ],
            "text/plain": [
              "     quality\n",
              "0          0\n",
              "1          0\n",
              "2          0\n",
              "3          0\n",
              "4          0\n",
              "..       ...\n",
              "795        0\n",
              "796        0\n",
              "797        0\n",
              "798        0\n",
              "799        0\n",
              "\n",
              "[800 rows x 1 columns]"
            ]
          },
          "metadata": {
            "tags": []
          },
          "execution_count": 3
        }
      ]
    },
    {
      "cell_type": "code",
      "metadata": {
        "id": "C05SRzK0SOPh",
        "colab": {
          "base_uri": "https://localhost:8080/"
        },
        "outputId": "33b6d096-4c1d-49d6-e160-e2a154cf3bb4"
      },
      "source": [
        "#GET DATA INFO\n",
        "wine_data.info()"
      ],
      "execution_count": 4,
      "outputs": [
        {
          "output_type": "stream",
          "text": [
            "<class 'pandas.core.frame.DataFrame'>\n",
            "RangeIndex: 799 entries, 0 to 798\n",
            "Data columns (total 12 columns):\n",
            " #   Column                Non-Null Count  Dtype  \n",
            "---  ------                --------------  -----  \n",
            " 0   fixed acidity         799 non-null    float64\n",
            " 1   volatile acidity      799 non-null    float64\n",
            " 2   citric acid           799 non-null    float64\n",
            " 3   residual sugar        799 non-null    float64\n",
            " 4   chlorides             799 non-null    float64\n",
            " 5   free sulfur dioxide   799 non-null    float64\n",
            " 6   total sulfur dioxide  799 non-null    float64\n",
            " 7   density               799 non-null    float64\n",
            " 8   pH                    799 non-null    float64\n",
            " 9   sulphates             799 non-null    float64\n",
            " 10  alcohol               799 non-null    float64\n",
            " 11  quality               799 non-null    int64  \n",
            "dtypes: float64(11), int64(1)\n",
            "memory usage: 75.0 KB\n"
          ],
          "name": "stdout"
        }
      ]
    },
    {
      "cell_type": "code",
      "metadata": {
        "id": "TWUNzerYSTfF",
        "colab": {
          "base_uri": "https://localhost:8080/"
        },
        "outputId": "a8adc5e3-50fa-436e-c277-28f63b0ec905"
      },
      "source": [
        "# Checking Nan presence\n",
        "wine_data.isnull().any()"
      ],
      "execution_count": 5,
      "outputs": [
        {
          "output_type": "execute_result",
          "data": {
            "text/plain": [
              "fixed acidity           False\n",
              "volatile acidity        False\n",
              "citric acid             False\n",
              "residual sugar          False\n",
              "chlorides               False\n",
              "free sulfur dioxide     False\n",
              "total sulfur dioxide    False\n",
              "density                 False\n",
              "pH                      False\n",
              "sulphates               False\n",
              "alcohol                 False\n",
              "quality                 False\n",
              "dtype: bool"
            ]
          },
          "metadata": {
            "tags": []
          },
          "execution_count": 5
        }
      ]
    },
    {
      "cell_type": "code",
      "metadata": {
        "id": "3aWrCVfGSWQV",
        "colab": {
          "base_uri": "https://localhost:8080/",
          "height": 314
        },
        "outputId": "73828879-55f4-40af-a25e-213ac1a9613b"
      },
      "source": [
        "# Computing the descriptive statistics of our numrerical features\n",
        "wine_data.describe()"
      ],
      "execution_count": 6,
      "outputs": [
        {
          "output_type": "execute_result",
          "data": {
            "text/html": [
              "<div>\n",
              "<style scoped>\n",
              "    .dataframe tbody tr th:only-of-type {\n",
              "        vertical-align: middle;\n",
              "    }\n",
              "\n",
              "    .dataframe tbody tr th {\n",
              "        vertical-align: top;\n",
              "    }\n",
              "\n",
              "    .dataframe thead th {\n",
              "        text-align: right;\n",
              "    }\n",
              "</style>\n",
              "<table border=\"1\" class=\"dataframe\">\n",
              "  <thead>\n",
              "    <tr style=\"text-align: right;\">\n",
              "      <th></th>\n",
              "      <th>fixed acidity</th>\n",
              "      <th>volatile acidity</th>\n",
              "      <th>citric acid</th>\n",
              "      <th>residual sugar</th>\n",
              "      <th>chlorides</th>\n",
              "      <th>free sulfur dioxide</th>\n",
              "      <th>total sulfur dioxide</th>\n",
              "      <th>density</th>\n",
              "      <th>pH</th>\n",
              "      <th>sulphates</th>\n",
              "      <th>alcohol</th>\n",
              "      <th>quality</th>\n",
              "    </tr>\n",
              "  </thead>\n",
              "  <tbody>\n",
              "    <tr>\n",
              "      <th>count</th>\n",
              "      <td>799.000000</td>\n",
              "      <td>799.000000</td>\n",
              "      <td>799.000000</td>\n",
              "      <td>799.000000</td>\n",
              "      <td>799.000000</td>\n",
              "      <td>799.000000</td>\n",
              "      <td>799.000000</td>\n",
              "      <td>799.000000</td>\n",
              "      <td>799.000000</td>\n",
              "      <td>799.000000</td>\n",
              "      <td>799.000000</td>\n",
              "      <td>799.000000</td>\n",
              "    </tr>\n",
              "    <tr>\n",
              "      <th>mean</th>\n",
              "      <td>8.404255</td>\n",
              "      <td>0.532972</td>\n",
              "      <td>0.275207</td>\n",
              "      <td>2.543930</td>\n",
              "      <td>0.087874</td>\n",
              "      <td>15.732791</td>\n",
              "      <td>46.568836</td>\n",
              "      <td>0.996901</td>\n",
              "      <td>3.310300</td>\n",
              "      <td>0.663692</td>\n",
              "      <td>10.371652</td>\n",
              "      <td>0.534418</td>\n",
              "    </tr>\n",
              "    <tr>\n",
              "      <th>std</th>\n",
              "      <td>1.820637</td>\n",
              "      <td>0.180163</td>\n",
              "      <td>0.199743</td>\n",
              "      <td>1.380552</td>\n",
              "      <td>0.046212</td>\n",
              "      <td>10.102371</td>\n",
              "      <td>32.453258</td>\n",
              "      <td>0.001891</td>\n",
              "      <td>0.158626</td>\n",
              "      <td>0.178889</td>\n",
              "      <td>1.038703</td>\n",
              "      <td>0.499126</td>\n",
              "    </tr>\n",
              "    <tr>\n",
              "      <th>min</th>\n",
              "      <td>4.600000</td>\n",
              "      <td>0.160000</td>\n",
              "      <td>0.000000</td>\n",
              "      <td>1.200000</td>\n",
              "      <td>0.012000</td>\n",
              "      <td>1.000000</td>\n",
              "      <td>6.000000</td>\n",
              "      <td>0.990640</td>\n",
              "      <td>2.740000</td>\n",
              "      <td>0.370000</td>\n",
              "      <td>8.400000</td>\n",
              "      <td>0.000000</td>\n",
              "    </tr>\n",
              "    <tr>\n",
              "      <th>25%</th>\n",
              "      <td>7.100000</td>\n",
              "      <td>0.395000</td>\n",
              "      <td>0.090000</td>\n",
              "      <td>1.900000</td>\n",
              "      <td>0.071000</td>\n",
              "      <td>7.000000</td>\n",
              "      <td>22.000000</td>\n",
              "      <td>0.995725</td>\n",
              "      <td>3.210000</td>\n",
              "      <td>0.550000</td>\n",
              "      <td>9.500000</td>\n",
              "      <td>0.000000</td>\n",
              "    </tr>\n",
              "    <tr>\n",
              "      <th>50%</th>\n",
              "      <td>7.900000</td>\n",
              "      <td>0.520000</td>\n",
              "      <td>0.260000</td>\n",
              "      <td>2.200000</td>\n",
              "      <td>0.080000</td>\n",
              "      <td>14.000000</td>\n",
              "      <td>37.000000</td>\n",
              "      <td>0.996820</td>\n",
              "      <td>3.310000</td>\n",
              "      <td>0.620000</td>\n",
              "      <td>10.100000</td>\n",
              "      <td>1.000000</td>\n",
              "    </tr>\n",
              "    <tr>\n",
              "      <th>75%</th>\n",
              "      <td>9.300000</td>\n",
              "      <td>0.640000</td>\n",
              "      <td>0.440000</td>\n",
              "      <td>2.600000</td>\n",
              "      <td>0.091000</td>\n",
              "      <td>21.000000</td>\n",
              "      <td>65.000000</td>\n",
              "      <td>0.998000</td>\n",
              "      <td>3.400000</td>\n",
              "      <td>0.735000</td>\n",
              "      <td>11.000000</td>\n",
              "      <td>1.000000</td>\n",
              "    </tr>\n",
              "    <tr>\n",
              "      <th>max</th>\n",
              "      <td>15.600000</td>\n",
              "      <td>1.580000</td>\n",
              "      <td>1.000000</td>\n",
              "      <td>15.500000</td>\n",
              "      <td>0.610000</td>\n",
              "      <td>55.000000</td>\n",
              "      <td>278.000000</td>\n",
              "      <td>1.003690</td>\n",
              "      <td>4.010000</td>\n",
              "      <td>2.000000</td>\n",
              "      <td>14.000000</td>\n",
              "      <td>1.000000</td>\n",
              "    </tr>\n",
              "  </tbody>\n",
              "</table>\n",
              "</div>"
            ],
            "text/plain": [
              "       fixed acidity  volatile acidity  ...     alcohol     quality\n",
              "count     799.000000        799.000000  ...  799.000000  799.000000\n",
              "mean        8.404255          0.532972  ...   10.371652    0.534418\n",
              "std         1.820637          0.180163  ...    1.038703    0.499126\n",
              "min         4.600000          0.160000  ...    8.400000    0.000000\n",
              "25%         7.100000          0.395000  ...    9.500000    0.000000\n",
              "50%         7.900000          0.520000  ...   10.100000    1.000000\n",
              "75%         9.300000          0.640000  ...   11.000000    1.000000\n",
              "max        15.600000          1.580000  ...   14.000000    1.000000\n",
              "\n",
              "[8 rows x 12 columns]"
            ]
          },
          "metadata": {
            "tags": []
          },
          "execution_count": 6
        }
      ]
    },
    {
      "cell_type": "markdown",
      "metadata": {
        "id": "d_FRP9L6lNJE"
      },
      "source": [
        "At this point, I already know that all values for queality are integers that are either 0 or 1. Next nstep, I would like to see the graph distribution for the following dataset"
      ]
    },
    {
      "cell_type": "markdown",
      "metadata": {
        "id": "zE4nk9JIMWcG"
      },
      "source": [
        "CHECKING FOR OUTLIERS"
      ]
    },
    {
      "cell_type": "code",
      "metadata": {
        "id": "p9uFHUJlSbqz",
        "colab": {
          "base_uri": "https://localhost:8080/",
          "height": 682
        },
        "outputId": "33c5b485-f554-421c-f1f8-8d6d68deed6f"
      },
      "source": [
        "import matplotlib.pyplot as plt\n",
        "import seaborn as sns\n",
        "\n",
        "plt.figure(figsize=(40,20))\n",
        "sns.boxplot(data=wine_data)"
      ],
      "execution_count": 7,
      "outputs": [
        {
          "output_type": "execute_result",
          "data": {
            "text/plain": [
              "<matplotlib.axes._subplots.AxesSubplot at 0x7fd018b68dd0>"
            ]
          },
          "metadata": {
            "tags": []
          },
          "execution_count": 7
        },
        {
          "output_type": "display_data",
          "data": {
            "image/png": "[encoded data removed]",
            "text/plain": [
              "<Figure size 2880x1440 with 1 Axes>"
            ]
          },
          "metadata": {
            "tags": [],
            "needs_background": "light"
          }
        }
      ]
    },
    {
      "cell_type": "markdown",
      "metadata": {
        "id": "kHqI9bkt4r-9"
      },
      "source": [
        "There are outliers but for now I will not do any manipulation on this data!!"
      ]
    },
    {
      "cell_type": "code",
      "metadata": {
        "id": "lAazi8sMSeFT",
        "colab": {
          "base_uri": "https://localhost:8080/"
        },
        "outputId": "a0690f53-6906-4c96-bbc0-1b80a6647e43"
      },
      "source": [
        "q1=wine_data.quantile(0.25)\n",
        "q2=wine_data.quantile(0.72)\n",
        "IQR=q2-q1\n",
        "print(IQR)"
      ],
      "execution_count": 8,
      "outputs": [
        {
          "output_type": "stream",
          "text": [
            "fixed acidity            2.000000\n",
            "volatile acidity         0.235000\n",
            "citric acid              0.330000\n",
            "residual sugar           0.700000\n",
            "chlorides                0.018000\n",
            "free sulfur dioxide     13.000000\n",
            "total sulfur dioxide    39.000000\n",
            "density                  0.002075\n",
            "pH                       0.180000\n",
            "sulphates                0.170000\n",
            "alcohol                  1.400000\n",
            "quality                  1.000000\n",
            "dtype: float64\n"
          ],
          "name": "stdout"
        }
      ]
    },
    {
      "cell_type": "markdown",
      "metadata": {
        "id": "_tfK3v388LLU"
      },
      "source": [
        "The test data in test.csv, and whatever test set you split off, is data that you \"have never seen before\". If you've never seen it, the you can't remove outliers from it, because to remove outliers means that you have the data and can analyze it. Hence I will not remocve outliers"
      ]
    },
    {
      "cell_type": "markdown",
      "metadata": {
        "id": "qlVcAfk_AORU"
      },
      "source": [
        "Since I will be attempting to use K Neighbors classifiers I will implement normalization, all the nearest neighbors are aligned in the direction of the axis with the smaller range"
      ]
    },
    {
      "cell_type": "markdown",
      "metadata": {
        "id": "BKG1hYULlsDr"
      },
      "source": [
        "I will proceed with randomizing dataset"
      ]
    },
    {
      "cell_type": "code",
      "metadata": {
        "id": "uINF-VBs0NjY"
      },
      "source": [
        "#Shuffling Data\n",
        "wine_data = wine_data.sample(frac=1).reset_index(drop=True)"
      ],
      "execution_count": 9,
      "outputs": []
    },
    {
      "cell_type": "markdown",
      "metadata": {
        "id": "7H837NPU5pG3"
      },
      "source": [
        "DATA PREPARATION"
      ]
    },
    {
      "cell_type": "code",
      "metadata": {
        "id": "PMeq3IO80VA5"
      },
      "source": [
        "#DATA PREPARATION\n",
        "x_data = wine_data.drop([\"quality\"],axis=1)\n",
        "x = x_data\n",
        "y = wine_data['quality'].values"
      ],
      "execution_count": 10,
      "outputs": []
    },
    {
      "cell_type": "code",
      "metadata": {
        "colab": {
          "base_uri": "https://localhost:8080/",
          "height": 296
        },
        "id": "rsC6Jo6mq93j",
        "outputId": "bc1c5eef-ea6e-4927-97bc-130f6ab29120"
      },
      "source": [
        "#UNDESRTANDING K NEIGHBORS test accuracy\n",
        "k_range = range(1, 100)\n",
        "\n",
        "# We can create Python dictionary using [] or dict()\n",
        "scores = []\n",
        "\n",
        "# We use a loop through the range 1 to 26\n",
        "# We append the scores in the dictionary\n",
        "for k in k_range:\n",
        "    x_train,x_test,y_train,y_test = train_test_split(x, y, stratify = y, random_state = 42)\n",
        "    knn = KNeighborsClassifier(n_neighbors=k)\n",
        "    knn.fit(x_train, y_train)\n",
        "    y_pred = knn.predict(x_test)\n",
        "    scores.append(accuracy_score(y_test, y_pred))\n",
        "plt.plot(k_range, scores)\n",
        "plt.xlabel('Value of K for KNN')\n",
        "plt.ylabel('Testing Accuracy')"
      ],
      "execution_count": 11,
      "outputs": [
        {
          "output_type": "execute_result",
          "data": {
            "text/plain": [
              "Text(0, 0.5, 'Testing Accuracy')"
            ]
          },
          "metadata": {
            "tags": []
          },
          "execution_count": 11
        },
        {
          "output_type": "display_data",
          "data": {
            "image/png": "[encoded data removed]",
            "text/plain": [
              "<Figure size 432x288 with 1 Axes>"
            ]
          },
          "metadata": {
            "tags": [],
            "needs_background": "light"
          }
        }
      ]
    },
    {
      "cell_type": "markdown",
      "metadata": {
        "id": "79mciTv90c0F"
      },
      "source": [
        "Normalization is a good technique to use when you do not know the distribution of your data or when you know the distribution is not Gaussian (a bell curve). Normalization is useful when your data has varying scales and the algorithm you are using does not make assumptions about the distribution of your data, such as k-nearest neighbors and artificial neural networks."
      ]
    },
    {
      "cell_type": "markdown",
      "metadata": {
        "id": "Hi7dRTm4ijTJ"
      },
      "source": [
        "The StandardScaler assumes your data is normally distributed within each feature. By \"removing the mean and scaling to unit variance\", you can see in the picture now they have the same \"scale\" regardless of its original one."
      ]
    },
    {
      "cell_type": "markdown",
      "metadata": {
        "id": "HfpDpaZaiqWt"
      },
      "source": [
        "I have to rescale the sample with MinMaxSCALER inside of pipeline\n",
        "\n",
        "\n"
      ]
    },
    {
      "cell_type": "markdown",
      "metadata": {
        "id": "HJ2PPctxMnsY"
      },
      "source": [
        "The pipeline consists of a list of steps involved where each of them is described as a tuple which has a string that has the name for the step and an instance of the class."
      ]
    },
    {
      "cell_type": "code",
      "metadata": {
        "colab": {
          "base_uri": "https://localhost:8080/",
          "height": 458
        },
        "id": "8LR3ozfm0YwV",
        "outputId": "f6d41c67-1c56-43b2-ef56-363f0754f151"
      },
      "source": [
        "#PIPELINE DEFAULT DISTRIBUTION MODEL\n",
        "test_roc = []\n",
        "test_f1= []\n",
        "best_f1 = 0\n",
        "\n",
        "for j in range(50):\n",
        "  x_train,x_test,y_train,y_test = train_test_split(x, y, stratify = y)\n",
        "\n",
        "  pipe = make_pipeline(preprocessing.MinMaxScaler(), neighbors.KNeighborsClassifier())\n",
        "  pipe = pipe.fit(x_train, y_train)\n",
        "  y_pred = pipe.predict(x_test)\n",
        "\n",
        "  test_roc.append(roc_auc_score(y_test, y_pred))\n",
        "  test_f1.append(f1_score(y_test, y_pred.round()))\n",
        "\n",
        "  if(best_f1 < f1_score(y_test, y_pred.round())):\n",
        "    best_f1 = f1_score(y_test, y_pred.round())\n",
        "    Best_pipe = pipe\n",
        "\n",
        "f, axs = plt.subplots(1, 2, figsize=(10, 6))\n",
        "axs[0].set_title(\"Test ROC Pipeline\")\n",
        "axs[1].set_title(\"Test F1 Pipeline\")\n",
        "sns.histplot(test_roc, ax = axs[0])\n",
        "sns.histplot(test_f1, ax = axs[1])\n",
        "f.tight_layout()\n",
        "print(\"BEST F1 pipeline\", best_f1)"
      ],
      "execution_count": 12,
      "outputs": [
        {
          "output_type": "stream",
          "text": [
            "BEST F1 pipeline 0.8055555555555556\n"
          ],
          "name": "stdout"
        },
        {
          "output_type": "display_data",
          "data": {
            "image/png": "[encoded data removed]",
            "text/plain": [
              "<Figure size 720x432 with 2 Axes>"
            ]
          },
          "metadata": {
            "tags": [],
            "needs_background": "light"
          }
        }
      ]
    },
    {
      "cell_type": "markdown",
      "metadata": {
        "id": "-GvDOnRG5mC3"
      },
      "source": [
        "I see that data median lies between 75 media for F1 , lets now try with gridsearch based on pipe model with best f1"
      ]
    },
    {
      "cell_type": "markdown",
      "metadata": {
        "id": "usJ0uFAI_gng"
      },
      "source": [
        "PARAMETER SEARCH - Hyperparameter Tuning-Grid Search-Cross Validation"
      ]
    },
    {
      "cell_type": "code",
      "metadata": {
        "colab": {
          "base_uri": "https://localhost:8080/",
          "height": 458
        },
        "id": "a_Bp_4lnifE-",
        "outputId": "5ad234b4-b780-448b-ad95-d2db42899921"
      },
      "source": [
        "#HYPERPARAMETER SEARCH DISTRIBUTION MODEL with GridSearch Cross Validation\n",
        "test_roc = []\n",
        "test_f1= []\n",
        "best_f1 = 0\n",
        "\n",
        "for j in range(50):\n",
        "  x_train,x_test,y_train,y_test = train_test_split(x, y, stratify = y, test_size = 0.1)\n",
        "\n",
        "  search_params = {\"kneighborsclassifier__n_neighbors\": range(1,100,2),\n",
        "                   \"kneighborsclassifier__weights\": ['distance']}\n",
        "\n",
        "  model = RandomizedSearchCV(Best_pipe, search_params, cv = StratifiedKFold(10))\n",
        "\n",
        "  model = model.fit(x_train, y_train)\n",
        "  y_pred = model.predict(x_test)\n",
        "\n",
        "  test_roc.append(roc_auc_score(y_test, y_pred))\n",
        "  test_f1.append(f1_score(y_test, y_pred.round()))\n",
        "\n",
        "  if(best_f1 < f1_score(y_test, y_pred.round())):\n",
        "    best_f1 = f1_score(y_test, y_pred.round())\n",
        "    model = model.best_estimator_\n",
        "\n",
        "f, axs = plt.subplots(1, 2, figsize=(10, 6))\n",
        "axs[0].set_title(\"Test ROC AUC Gridsearch\")\n",
        "axs[1].set_title(\"Test F1 GridSearch\")\n",
        "sns.histplot(test_roc, ax = axs[0])\n",
        "sns.histplot(test_f1, ax = axs[1])\n",
        "f.tight_layout()\n",
        "print(\"BEST F1 Gridsearch\", best_f1)"
      ],
      "execution_count": 13,
      "outputs": [
        {
          "output_type": "stream",
          "text": [
            "BEST F1 Gridsearch 0.878048780487805\n"
          ],
          "name": "stdout"
        },
        {
          "output_type": "display_data",
          "data": {
            "image/png": "[encoded data removed]",
            "text/plain": [
              "<Figure size 720x432 with 2 Axes>"
            ]
          },
          "metadata": {
            "tags": [],
            "needs_background": "light"
          }
        }
      ]
    },
    {
      "cell_type": "markdown",
      "metadata": {
        "id": "bbPjclXW4Y-K"
      },
      "source": [
        "I am having a model with a better median for f1 score of around 80 which is much better thank to the hyperparameter search"
      ]
    },
    {
      "cell_type": "markdown",
      "metadata": {
        "id": "XHM-UptUSQV-"
      },
      "source": [
        "I HAVE NOW THE BEST ESTIMATOR, THIS MEANS THAT THIS IS THE PARAMETERS I WILL USE WHEN PREDICTING AGAINST TEST DATA"
      ]
    },
    {
      "cell_type": "code",
      "metadata": {
        "colab": {
          "base_uri": "https://localhost:8080/",
          "height": 450
        },
        "id": "bnLU_YNdetUF",
        "outputId": "71c8cee0-bf30-4c1b-9abf-2f37e1128904"
      },
      "source": [
        "y_pred = model.predict(test_data)\n",
        "output = pd.DataFrame({'id': np.arange(0,800), 'quality': y_pred})\n",
        "output = output.set_index('id')\n",
        "output['quality'] = y_pred\n",
        "output.to_csv(\"submission.csv\")\n",
        "output"
      ],
      "execution_count": 14,
      "outputs": [
        {
          "output_type": "execute_result",
          "data": {
            "text/html": [
              "<div>\n",
              "<style scoped>\n",
              "    .dataframe tbody tr th:only-of-type {\n",
              "        vertical-align: middle;\n",
              "    }\n",
              "\n",
              "    .dataframe tbody tr th {\n",
              "        vertical-align: top;\n",
              "    }\n",
              "\n",
              "    .dataframe thead th {\n",
              "        text-align: right;\n",
              "    }\n",
              "</style>\n",
              "<table border=\"1\" class=\"dataframe\">\n",
              "  <thead>\n",
              "    <tr style=\"text-align: right;\">\n",
              "      <th></th>\n",
              "      <th>quality</th>\n",
              "    </tr>\n",
              "    <tr>\n",
              "      <th>id</th>\n",
              "      <th></th>\n",
              "    </tr>\n",
              "  </thead>\n",
              "  <tbody>\n",
              "    <tr>\n",
              "      <th>0</th>\n",
              "      <td>0</td>\n",
              "    </tr>\n",
              "    <tr>\n",
              "      <th>1</th>\n",
              "      <td>0</td>\n",
              "    </tr>\n",
              "    <tr>\n",
              "      <th>2</th>\n",
              "      <td>0</td>\n",
              "    </tr>\n",
              "    <tr>\n",
              "      <th>3</th>\n",
              "      <td>1</td>\n",
              "    </tr>\n",
              "    <tr>\n",
              "      <th>4</th>\n",
              "      <td>1</td>\n",
              "    </tr>\n",
              "    <tr>\n",
              "      <th>...</th>\n",
              "      <td>...</td>\n",
              "    </tr>\n",
              "    <tr>\n",
              "      <th>795</th>\n",
              "      <td>0</td>\n",
              "    </tr>\n",
              "    <tr>\n",
              "      <th>796</th>\n",
              "      <td>1</td>\n",
              "    </tr>\n",
              "    <tr>\n",
              "      <th>797</th>\n",
              "      <td>1</td>\n",
              "    </tr>\n",
              "    <tr>\n",
              "      <th>798</th>\n",
              "      <td>1</td>\n",
              "    </tr>\n",
              "    <tr>\n",
              "      <th>799</th>\n",
              "      <td>1</td>\n",
              "    </tr>\n",
              "  </tbody>\n",
              "</table>\n",
              "<p>800 rows × 1 columns</p>\n",
              "</div>"
            ],
            "text/plain": [
              "     quality\n",
              "id          \n",
              "0          0\n",
              "1          0\n",
              "2          0\n",
              "3          1\n",
              "4          1\n",
              "..       ...\n",
              "795        0\n",
              "796        1\n",
              "797        1\n",
              "798        1\n",
              "799        1\n",
              "\n",
              "[800 rows x 1 columns]"
            ]
          },
          "metadata": {
            "tags": []
          },
          "execution_count": 14
        }
      ]
    }
  ]
}